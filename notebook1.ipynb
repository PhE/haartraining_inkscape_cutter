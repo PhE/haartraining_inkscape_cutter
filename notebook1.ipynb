{
 "metadata": {
  "name": "essai_elemtree"
 },
 "nbformat": 3,
 "nbformat_minor": 0,
 "worksheets": [
  {
   "cells": [
    {
     "cell_type": "code",
     "collapsed": false,
     "input": [
      "import xml.etree.ElementTree as ET"
     ],
     "language": "python",
     "metadata": {},
     "outputs": [],
     "prompt_number": 9
    },
    {
     "cell_type": "code",
     "collapsed": false,
     "input": [
      "tree = ET.parse('posneg_creator.svg')\n",
      "root = tree.getroot()"
     ],
     "language": "python",
     "metadata": {},
     "outputs": [],
     "prompt_number": 10
    },
    {
     "cell_type": "code",
     "collapsed": false,
     "input": [
      "root.tag"
     ],
     "language": "python",
     "metadata": {},
     "outputs": [
      {
       "output_type": "pyout",
       "prompt_number": 11,
       "text": [
        "'{http://www.w3.org/2000/svg}svg'"
       ]
      }
     ],
     "prompt_number": 11
    },
    {
     "cell_type": "code",
     "collapsed": false,
     "input": [
      "calques = [x for x in root if x.tag == '{http://www.w3.org/2000/svg}g']\n",
      "calques"
     ],
     "language": "python",
     "metadata": {},
     "outputs": [
      {
       "output_type": "pyout",
       "prompt_number": 12,
       "text": [
        "[<Element '{http://www.w3.org/2000/svg}g' at 0x2006b10>,\n",
        " <Element '{http://www.w3.org/2000/svg}g' at 0x2006750>,\n",
        " <Element '{http://www.w3.org/2000/svg}g' at 0x2006e10>]"
       ]
      }
     ],
     "prompt_number": 12
    },
    {
     "cell_type": "code",
     "collapsed": false,
     "input": [
      "calque_pos = [x for x in calques if x.attrib['{http://www.inkscape.org/namespaces/inkscape}label'] == 'positive'][0]"
     ],
     "language": "python",
     "metadata": {},
     "outputs": [],
     "prompt_number": 13
    },
    {
     "cell_type": "code",
     "collapsed": false,
     "input": [
      "rects = [x for x in calque_pos if x.tag == '{http://www.w3.org/2000/svg}rect']\n",
      "rects"
     ],
     "language": "python",
     "metadata": {},
     "outputs": [
      {
       "output_type": "pyout",
       "prompt_number": 14,
       "text": [
        "[<Element '{http://www.w3.org/2000/svg}rect' at 0x2006b90>,\n",
        " <Element '{http://www.w3.org/2000/svg}rect' at 0x2006c10>,\n",
        " <Element '{http://www.w3.org/2000/svg}rect' at 0x2006c50>,\n",
        " <Element '{http://www.w3.org/2000/svg}rect' at 0x2006c90>,\n",
        " <Element '{http://www.w3.org/2000/svg}rect' at 0x2006cd0>,\n",
        " <Element '{http://www.w3.org/2000/svg}rect' at 0x2006d10>,\n",
        " <Element '{http://www.w3.org/2000/svg}rect' at 0x2006d50>,\n",
        " <Element '{http://www.w3.org/2000/svg}rect' at 0x2006d90>,\n",
        " <Element '{http://www.w3.org/2000/svg}rect' at 0x2006dd0>]"
       ]
      }
     ],
     "prompt_number": 14
    },
    {
     "cell_type": "code",
     "collapsed": false,
     "input": [
      "for rect in rects:\n",
      "    #x, y = int(float(rect.attrib['x'])), int(float(rect.attrib['y']))\n",
      "    x, y = rect.attrib['x'], rect.attrib['y']\n",
      "    print x, y"
     ],
     "language": "python",
     "metadata": {},
     "outputs": [
      {
       "output_type": "stream",
       "stream": "stdout",
       "text": [
        "395.11441 470.76245\n",
        "1065.5625 680.60535\n",
        "1028.5352 658.26697\n",
        "970.03882 717.28271\n",
        "936.53522 658.26697\n",
        "1101.5625 808.60535\n",
        "1183.5625 792.60535\n",
        "1253.6345 630.57898\n",
        "1.082168 3411.0151\n"
       ]
      }
     ],
     "prompt_number": 16
    },
    {
     "cell_type": "code",
     "collapsed": false,
     "input": [],
     "language": "python",
     "metadata": {},
     "outputs": [],
     "prompt_number": 15
    }
   ],
   "metadata": {}
  }
 ]
}